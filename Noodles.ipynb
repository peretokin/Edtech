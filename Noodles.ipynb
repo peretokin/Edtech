{
 "cells": [
  {
   "cell_type": "code",
   "execution_count": 1,
   "metadata": {},
   "outputs": [],
   "source": [
    "#This analysis was performed in order to find out what influences the rating of ramen.\n",
    "#Tasks:\n",
    "#1) Выяснить какая форма подачи является самой популярной\n",
    "#2) Does country of production Affect Noodles Rankings\n",
    "#3) Which brands of noodles are the most popular and have the best ratings\n",
    "#4) Which brands makes the best instant noodles"
   ]
  },
  {
   "cell_type": "code",
   "execution_count": 2,
   "metadata": {},
   "outputs": [],
   "source": [
    "import pandas as pd\n",
    "import numpy as np\n",
    "import matplotlib.pyplot as plt\n",
    "import seaborn as sns"
   ]
  },
  {
   "cell_type": "code",
   "execution_count": 3,
   "metadata": {},
   "outputs": [],
   "source": [
    "s = pd.read_csv('/Users/alexandrperetokin/Downloads/ramen.csv')#https://www.kaggle.com/residentmario/ramen-ratings"
   ]
  },
  {
   "cell_type": "code",
   "execution_count": 4,
   "metadata": {},
   "outputs": [
    {
     "data": {
      "text/plain": [
       "(26, 7)"
      ]
     },
     "execution_count": 4,
     "metadata": {},
     "output_type": "execute_result"
    }
   ],
   "source": [
    "(s.loc[s['Stars'] == '0']).shape"
   ]
  },
  {
   "cell_type": "code",
   "execution_count": 5,
   "metadata": {},
   "outputs": [
    {
     "data": {
      "text/plain": [
       "(3, 7)"
      ]
     },
     "execution_count": 5,
     "metadata": {},
     "output_type": "execute_result"
    }
   ],
   "source": [
    "s.loc[s['Stars'] == 'Unrated'].shape#We have to delete string values"
   ]
  },
  {
   "cell_type": "code",
   "execution_count": null,
   "metadata": {},
   "outputs": [],
   "source": []
  },
  {
   "cell_type": "code",
   "execution_count": 7,
   "metadata": {},
   "outputs": [],
   "source": [
    "s = s.drop([32,122,993])"
   ]
  },
  {
   "cell_type": "code",
   "execution_count": 8,
   "metadata": {},
   "outputs": [],
   "source": [
    "s['Stars'] = s['Stars'].astype(float)\n"
   ]
  },
  {
   "cell_type": "code",
   "execution_count": 9,
   "metadata": {},
   "outputs": [],
   "source": [
    "s.rename({'Review #': 'Review'}, axis=1, inplace=True)"
   ]
  },
  {
   "cell_type": "code",
   "execution_count": 10,
   "metadata": {},
   "outputs": [],
   "source": [
    "ss = s.groupby(s['Style']).agg(['count', 'mean'])\n",
    "del ss['Review','mean']\n",
    "del ss['Stars','count']"
   ]
  },
  {
   "cell_type": "code",
   "execution_count": 11,
   "metadata": {},
   "outputs": [],
   "source": [
    "\n",
    "ss = ss.loc[ss.Review['count'] > 6]#It is better to remove small samples"
   ]
  },
  {
   "cell_type": "code",
   "execution_count": 14,
   "metadata": {},
   "outputs": [
    {
     "data": {
      "image/png": "[encoded data removed]",
      "text/plain": [
       "<Figure size 432x288 with 1 Axes>"
      ]
     },
     "metadata": {
      "needs_background": "light"
     },
     "output_type": "display_data"
    }
   ],
   "source": [
    "\n",
    "\n",
    "plt.bar(ss.index,ss.Review['count'], color ='tan',\n",
    "        width = 0.5)\n",
    " \n",
    "plt.xlabel(\"Style of serving\")\n",
    "plt.ylabel(\"number of marks\")\n",
    "plt.title(\"What style of serving is the most popular\")\n",
    "plt.show()"
   ]
  },
  {
   "cell_type": "code",
   "execution_count": 15,
   "metadata": {},
   "outputs": [],
   "source": [
    "#Packaged noodles are the most common dishes"
   ]
  },
  {
   "cell_type": "code",
   "execution_count": 16,
   "metadata": {},
   "outputs": [],
   "source": [
    "jj = s.groupby([\"Country\"]).agg(['mean','count'])"
   ]
  },
  {
   "cell_type": "code",
   "execution_count": 17,
   "metadata": {},
   "outputs": [],
   "source": [
    "del jj['Review','mean']\n",
    "del jj['Stars','count']"
   ]
  },
  {
   "cell_type": "code",
   "execution_count": 18,
   "metadata": {},
   "outputs": [],
   "source": [
    "jj = jj.loc[jj.Review['count'] > 15]"
   ]
  },
  {
   "cell_type": "code",
   "execution_count": 19,
   "metadata": {},
   "outputs": [
    {
     "data": {
      "text/plain": [
       "Country\n",
       "Japan          352\n",
       "USA            323\n",
       "South Korea    307\n",
       "Taiwan         224\n",
       "Thailand       191\n",
       "China          169\n",
       "Malaysia       155\n",
       "Hong Kong      137\n",
       "Indonesia      126\n",
       "Singapore      109\n",
       "Vietnam        108\n",
       "UK              69\n",
       "Philippines     47\n",
       "Canada          41\n",
       "India           31\n",
       "Germany         27\n",
       "Mexico          25\n",
       "Australia       22\n",
       "Name: count, dtype: int64"
      ]
     },
     "execution_count": 19,
     "metadata": {},
     "output_type": "execute_result"
    }
   ],
   "source": [
    "jj.Review['count'].sort_values(ascending=False)"
   ]
  },
  {
   "cell_type": "code",
   "execution_count": 20,
   "metadata": {},
   "outputs": [
    {
     "data": {
      "text/html": [
       "<div>\n",
       "<style scoped>\n",
       "    .dataframe tbody tr th:only-of-type {\n",
       "        vertical-align: middle;\n",
       "    }\n",
       "\n",
       "    .dataframe tbody tr th {\n",
       "        vertical-align: top;\n",
       "    }\n",
       "\n",
       "    .dataframe thead tr th {\n",
       "        text-align: left;\n",
       "    }\n",
       "\n",
       "    .dataframe thead tr:last-of-type th {\n",
       "        text-align: right;\n",
       "    }\n",
       "</style>\n",
       "<table border=\"1\" class=\"dataframe\">\n",
       "  <thead>\n",
       "    <tr>\n",
       "      <th></th>\n",
       "      <th>Review</th>\n",
       "      <th>Stars</th>\n",
       "    </tr>\n",
       "    <tr>\n",
       "      <th></th>\n",
       "      <th>count</th>\n",
       "      <th>mean</th>\n",
       "    </tr>\n",
       "    <tr>\n",
       "      <th>Country</th>\n",
       "      <th></th>\n",
       "      <th></th>\n",
       "    </tr>\n",
       "  </thead>\n",
       "  <tbody>\n",
       "    <tr>\n",
       "      <td>Japan</td>\n",
       "      <td>352</td>\n",
       "      <td>3.981605</td>\n",
       "    </tr>\n",
       "    <tr>\n",
       "      <td>USA</td>\n",
       "      <td>323</td>\n",
       "      <td>3.457043</td>\n",
       "    </tr>\n",
       "    <tr>\n",
       "      <td>South Korea</td>\n",
       "      <td>307</td>\n",
       "      <td>3.790554</td>\n",
       "    </tr>\n",
       "    <tr>\n",
       "      <td>Taiwan</td>\n",
       "      <td>224</td>\n",
       "      <td>3.665402</td>\n",
       "    </tr>\n",
       "  </tbody>\n",
       "</table>\n",
       "</div>"
      ],
      "text/plain": [
       "            Review     Stars\n",
       "             count      mean\n",
       "Country                     \n",
       "Japan          352  3.981605\n",
       "USA            323  3.457043\n",
       "South Korea    307  3.790554\n",
       "Taiwan         224  3.665402"
      ]
     },
     "execution_count": 20,
     "metadata": {},
     "output_type": "execute_result"
    }
   ],
   "source": [
    "jj.loc[['Japan','USA','South Korea','Taiwan']]"
   ]
  },
  {
   "cell_type": "code",
   "execution_count": 21,
   "metadata": {},
   "outputs": [],
   "source": [
    "kk = jj.loc[['Japan','USA','South Korea','Taiwan']]"
   ]
  },
  {
   "cell_type": "code",
   "execution_count": 24,
   "metadata": {},
   "outputs": [
    {
     "data": {
      "text/plain": [
       "<matplotlib.axes._subplots.AxesSubplot at 0x7fd385fed310>"
      ]
     },
     "execution_count": 24,
     "metadata": {},
     "output_type": "execute_result"
    },
    {
     "data": {
      "image/png": "[encoded data removed]",
      "text/plain": [
       "<Figure size 432x288 with 1 Axes>"
      ]
     },
     "metadata": {
      "needs_background": "light"
     },
     "output_type": "display_data"
    }
   ],
   "source": [
    "sns.barplot(data=jj, y=jj.index, x = jj.Review['count'])"
   ]
  },
  {
   "cell_type": "code",
   "execution_count": 81,
   "metadata": {},
   "outputs": [
    {
     "data": {
      "image/png": "[encoded data removed]",
      "text/plain": [
       "<Figure size 864x432 with 1 Axes>"
      ]
     },
     "metadata": {},
     "output_type": "display_data"
    }
   ],
   "source": [
    "\n",
    "\n",
    "x1 = np.arange(1, 8) - 0.2\n",
    "x2 = np.arange(1, 8) + 0.2\n",
    "y1 = np.random.randint(1, 10, size = 7)\n",
    "y2 = np.random.randint(1, 10, size = 7)\n",
    "\n",
    "fig, ax = plt.subplots()\n",
    "\n",
    "ax.bar(ss.index, ss.Stars['mean'], width = 0.4)\n",
    "ax.bar(kk.index, kk.Stars['mean'], width = 0.4)\n",
    "\n",
    "ax.set_facecolor('seashell')\n",
    "fig.set_figwidth(12)    \n",
    "fig.set_figheight(6)    \n",
    "fig.set_facecolor('floralwhite')\n",
    "\n",
    "plt.show()"
   ]
  },
  {
   "cell_type": "code",
   "execution_count": 26,
   "metadata": {},
   "outputs": [],
   "source": [
    "#this histogram perfect illustrates that noodle is perfect, and it's doesn't matter how they were served and where were they cooced"
   ]
  },
  {
   "cell_type": "code",
   "execution_count": 27,
   "metadata": {},
   "outputs": [],
   "source": [
    "gg = s.groupby([\"Brand\"]).agg(['mean','count'])"
   ]
  },
  {
   "cell_type": "code",
   "execution_count": 28,
   "metadata": {},
   "outputs": [],
   "source": [
    "del gg['Review','mean']\n"
   ]
  },
  {
   "cell_type": "code",
   "execution_count": 29,
   "metadata": {},
   "outputs": [],
   "source": [
    "gg = gg.loc[gg['Review']['count'] > 20]"
   ]
  },
  {
   "cell_type": "code",
   "execution_count": 31,
   "metadata": {},
   "outputs": [
    {
     "data": {
      "text/plain": [
       "<matplotlib.axes._subplots.AxesSubplot at 0x7fd3862f1290>"
      ]
     },
     "execution_count": 31,
     "metadata": {},
     "output_type": "execute_result"
    },
    {
     "data": {
      "image/png": "[encoded data removed]",
      "text/plain": [
       "<Figure size 432x288 with 1 Axes>"
      ]
     },
     "metadata": {
      "needs_background": "light"
     },
     "output_type": "display_data"
    }
   ],
   "source": [
    "sns.barplot(data=gg, y = gg.index[:23], x = gg.Stars['mean'])"
   ]
  },
  {
   "cell_type": "code",
   "execution_count": 33,
   "metadata": {},
   "outputs": [],
   "source": [
    "ad = s.loc[s['Style'] == 'Pack']"
   ]
  },
  {
   "cell_type": "code",
   "execution_count": 34,
   "metadata": {},
   "outputs": [],
   "source": [
    "ad = ad.groupby([\"Brand\"]).agg(['mean','count'])\n"
   ]
  },
  {
   "cell_type": "code",
   "execution_count": 36,
   "metadata": {},
   "outputs": [],
   "source": [
    "del ad['Review','mean']\n",
    "del ad['Stars', 'count']\n"
   ]
  },
  {
   "cell_type": "code",
   "execution_count": 82,
   "metadata": {},
   "outputs": [],
   "source": [
    "dd = ad.rank()"
   ]
  },
  {
   "cell_type": "code",
   "execution_count": 83,
   "metadata": {},
   "outputs": [
    {
     "data": {
      "text/plain": [
       "Brand\n",
       "Nongshim            106.5\n",
       "Samyang Foods       104.5\n",
       "Indomie              97.5\n",
       "MyKuali              97.0\n",
       "Nissin               95.0\n",
       "Paldo                95.0\n",
       "A-Sha Dry Noodle     92.0\n",
       "Takamori Kosan       81.5\n",
       "Vit's                80.0\n",
       "Yamachan             78.5\n",
       "Mama                 77.0\n",
       "Myojo                76.5\n",
       "Sapporo Ichiban      75.5\n",
       "Master Kong          75.0\n",
       "Deshome              75.0\n",
       "Mamee                75.0\n",
       "JML                  74.5\n",
       "MAMA                 73.0\n",
       "Maggi                72.0\n",
       "KOKA                 71.0\n",
       "Jingqi               67.0\n",
       "Vina Acecook         67.0\n",
       "Maruchan             65.0\n",
       "Mi Sedaap            64.5\n",
       "Koka                 64.0\n",
       "Ottogi               64.0\n",
       "SuperMi              64.0\n",
       "Prima Taste          63.5\n",
       "CarJEN               61.5\n",
       "Sakurai Foods        61.5\n",
       "Tseng Noodles        60.5\n",
       "Amianda              57.5\n",
       "Lucky Me!            57.0\n",
       "Asian Thai Foods     55.5\n",
       "Wu-Mu                55.0\n",
       "Vifon                53.0\n",
       "Wai Wai              49.0\n",
       "Ve Wong              48.5\n",
       "Ibumie               48.0\n",
       "Samyang              46.5\n",
       "Doll                 45.0\n",
       "Ko-Lee               45.0\n",
       "Fujiwara             43.5\n",
       "Pulmuone             43.0\n",
       "Wei Lih              42.0\n",
       "Batchelors           41.5\n",
       "Sichuan Baijia       40.5\n",
       "Yum Yum              39.5\n",
       "Fuku                 39.0\n",
       "Sau Tao              38.5\n",
       "Sarimi               36.5\n",
       "Unif / Tung-I        32.5\n",
       "Wu Mu                27.5\n",
       "Shirakiku            23.0\n",
       "Baijia               15.0\n",
       "Knorr                 9.5\n",
       "Mr. Noodles           8.5\n",
       "Koyo                  7.5\n",
       "Name: sum, dtype: float64"
      ]
     },
     "execution_count": 83,
     "metadata": {},
     "output_type": "execute_result"
    }
   ],
   "source": [
    "dd['sum'] = dd.Review['count']+dd.Stars['mean']\n",
    "dd['sum'].sort_values(ascending=False)"
   ]
  },
  {
   "cell_type": "code",
   "execution_count": 79,
   "metadata": {},
   "outputs": [
    {
     "data": {
      "text/html": [
       "<div>\n",
       "<style scoped>\n",
       "    .dataframe tbody tr th:only-of-type {\n",
       "        vertical-align: middle;\n",
       "    }\n",
       "\n",
       "    .dataframe tbody tr th {\n",
       "        vertical-align: top;\n",
       "    }\n",
       "\n",
       "    .dataframe thead tr th {\n",
       "        text-align: left;\n",
       "    }\n",
       "\n",
       "    .dataframe thead tr:last-of-type th {\n",
       "        text-align: right;\n",
       "    }\n",
       "</style>\n",
       "<table border=\"1\" class=\"dataframe\">\n",
       "  <thead>\n",
       "    <tr>\n",
       "      <th></th>\n",
       "      <th>Review</th>\n",
       "      <th>Stars</th>\n",
       "      <th>sum</th>\n",
       "    </tr>\n",
       "    <tr>\n",
       "      <th></th>\n",
       "      <th>count</th>\n",
       "      <th>mean</th>\n",
       "      <th></th>\n",
       "    </tr>\n",
       "    <tr>\n",
       "      <th>Brand</th>\n",
       "      <th></th>\n",
       "      <th></th>\n",
       "      <th></th>\n",
       "    </tr>\n",
       "  </thead>\n",
       "  <tbody>\n",
       "    <tr>\n",
       "      <td>Nongshim</td>\n",
       "      <td>55.5</td>\n",
       "      <td>51.0</td>\n",
       "      <td>106.5</td>\n",
       "    </tr>\n",
       "    <tr>\n",
       "      <td>Samyang Foods</td>\n",
       "      <td>52.5</td>\n",
       "      <td>52.0</td>\n",
       "      <td>104.5</td>\n",
       "    </tr>\n",
       "    <tr>\n",
       "      <td>Indomie</td>\n",
       "      <td>55.5</td>\n",
       "      <td>42.0</td>\n",
       "      <td>97.5</td>\n",
       "    </tr>\n",
       "    <tr>\n",
       "      <td>MyKuali</td>\n",
       "      <td>40.0</td>\n",
       "      <td>57.0</td>\n",
       "      <td>97.0</td>\n",
       "    </tr>\n",
       "    <tr>\n",
       "      <td>Nissin</td>\n",
       "      <td>58.0</td>\n",
       "      <td>37.0</td>\n",
       "      <td>95.0</td>\n",
       "    </tr>\n",
       "  </tbody>\n",
       "</table>\n",
       "</div>"
      ],
      "text/plain": [
       "              Review Stars    sum\n",
       "               count  mean       \n",
       "Brand                            \n",
       "Nongshim        55.5  51.0  106.5\n",
       "Samyang Foods   52.5  52.0  104.5\n",
       "Indomie         55.5  42.0   97.5\n",
       "MyKuali         40.0  57.0   97.0\n",
       "Nissin          58.0  37.0   95.0"
      ]
     },
     "execution_count": 79,
     "metadata": {},
     "output_type": "execute_result"
    }
   ],
   "source": [
    "\n",
    "dd.loc[['Nongshim','Samyang Foods','Indomie','MyKuali','Nissin']]#ranks and their sum"
   ]
  },
  {
   "cell_type": "code",
   "execution_count": 80,
   "metadata": {},
   "outputs": [
    {
     "data": {
      "image/png": "[encoded data removed]",
      "text/plain": [
       "<Figure size 864x432 with 1 Axes>"
      ]
     },
     "metadata": {},
     "output_type": "display_data"
    }
   ],
   "source": [
    "\n",
    "x1 = np.arange(1, 8) - 0.2\n",
    "\n",
    "y1 = np.random.randint(1, 10, size = 7)\n",
    "\n",
    "\n",
    "fig, ax = plt.subplots()\n",
    "\n",
    "ax.bar(dd.loc[['Nongshim','Samyang Foods','Indomie','MyKuali','Nissin']].index\n",
    "       , dd.loc[['Nongshim','Samyang Foods','Indomie','MyKuali','Nissin']]['sum'], width = 0.4)\n",
    "\n",
    "\n",
    "ax.set_facecolor('seashell')\n",
    "fig.set_figwidth(12)    \n",
    "fig.set_figheight(6)    \n",
    "fig.set_facecolor('floralwhite')\n",
    "\n",
    "plt.show()"
   ]
  },
  {
   "cell_type": "code",
   "execution_count": null,
   "metadata": {},
   "outputs": [],
   "source": [
    "#top 5 brands of Instant noodles, counted by sum of ranks"
   ]
  }
 ],
 "metadata": {
  "kernelspec": {
   "display_name": "Python 3",
   "language": "python",
   "name": "python3"
  },
  "language_info": {
   "codemirror_mode": {
    "name": "ipython",
    "version": 3
   },
   "file_extension": ".py",
   "mimetype": "text/x-python",
   "name": "python",
   "nbconvert_exporter": "python",
   "pygments_lexer": "ipython3",
   "version": "3.7.4"
  }
 },
 "nbformat": 4,
 "nbformat_minor": 2
}
